{
 "cells": [
  {
   "cell_type": "code",
   "execution_count": null,
   "id": "62819b71-7673-4e84-b88c-853f2e10f734",
   "metadata": {
    "scrolled": true
   },
   "outputs": [
    {
     "name": "stdout",
     "output_type": "stream",
     "text": [
      "Requirement already satisfied: openai==0.28.1 in c:\\users\\lrinc\\anaconda3\\lib\\site-packages (0.28.1)\n",
      "Requirement already satisfied: requests>=2.20 in c:\\users\\lrinc\\anaconda3\\lib\\site-packages (from openai==0.28.1) (2.32.2)\n",
      "Requirement already satisfied: tqdm in c:\\users\\lrinc\\anaconda3\\lib\\site-packages (from openai==0.28.1) (4.66.4)\n",
      "Requirement already satisfied: aiohttp in c:\\users\\lrinc\\anaconda3\\lib\\site-packages (from openai==0.28.1) (3.9.5)\n",
      "Requirement already satisfied: charset-normalizer<4,>=2 in c:\\users\\lrinc\\anaconda3\\lib\\site-packages (from requests>=2.20->openai==0.28.1) (2.0.4)\n",
      "Requirement already satisfied: idna<4,>=2.5 in c:\\users\\lrinc\\anaconda3\\lib\\site-packages (from requests>=2.20->openai==0.28.1) (3.7)\n",
      "Requirement already satisfied: urllib3<3,>=1.21.1 in c:\\users\\lrinc\\anaconda3\\lib\\site-packages (from requests>=2.20->openai==0.28.1) (2.2.2)\n",
      "Requirement already satisfied: certifi>=2017.4.17 in c:\\users\\lrinc\\anaconda3\\lib\\site-packages (from requests>=2.20->openai==0.28.1) (2024.8.30)\n",
      "Requirement already satisfied: aiosignal>=1.1.2 in c:\\users\\lrinc\\anaconda3\\lib\\site-packages (from aiohttp->openai==0.28.1) (1.2.0)\n",
      "Requirement already satisfied: attrs>=17.3.0 in c:\\users\\lrinc\\anaconda3\\lib\\site-packages (from aiohttp->openai==0.28.1) (23.1.0)\n",
      "Requirement already satisfied: frozenlist>=1.1.1 in c:\\users\\lrinc\\anaconda3\\lib\\site-packages (from aiohttp->openai==0.28.1) (1.4.0)\n",
      "Requirement already satisfied: multidict<7.0,>=4.5 in c:\\users\\lrinc\\anaconda3\\lib\\site-packages (from aiohttp->openai==0.28.1) (6.0.4)\n",
      "Requirement already satisfied: yarl<2.0,>=1.0 in c:\\users\\lrinc\\anaconda3\\lib\\site-packages (from aiohttp->openai==0.28.1) (1.9.3)\n",
      "Requirement already satisfied: colorama in c:\\users\\lrinc\\anaconda3\\lib\\site-packages (from tqdm->openai==0.28.1) (0.4.6)\n",
      "Requirement already satisfied: tiktoken==0.6.0 in c:\\users\\lrinc\\anaconda3\\lib\\site-packages (0.6.0)\n",
      "Requirement already satisfied: regex>=2022.1.18 in c:\\users\\lrinc\\anaconda3\\lib\\site-packages (from tiktoken==0.6.0) (2023.10.3)\n",
      "Requirement already satisfied: requests>=2.26.0 in c:\\users\\lrinc\\anaconda3\\lib\\site-packages (from tiktoken==0.6.0) (2.32.2)\n",
      "Requirement already satisfied: charset-normalizer<4,>=2 in c:\\users\\lrinc\\anaconda3\\lib\\site-packages (from requests>=2.26.0->tiktoken==0.6.0) (2.0.4)\n",
      "Requirement already satisfied: idna<4,>=2.5 in c:\\users\\lrinc\\anaconda3\\lib\\site-packages (from requests>=2.26.0->tiktoken==0.6.0) (3.7)\n",
      "Requirement already satisfied: urllib3<3,>=1.21.1 in c:\\users\\lrinc\\anaconda3\\lib\\site-packages (from requests>=2.26.0->tiktoken==0.6.0) (2.2.2)\n",
      "Requirement already satisfied: certifi>=2017.4.17 in c:\\users\\lrinc\\anaconda3\\lib\\site-packages (from requests>=2.26.0->tiktoken==0.6.0) (2024.8.30)\n",
      "Requirement already satisfied: langchain==0.1.20 in c:\\users\\lrinc\\anaconda3\\lib\\site-packages (0.1.20)\n",
      "Requirement already satisfied: PyYAML>=5.3 in c:\\users\\lrinc\\anaconda3\\lib\\site-packages (from langchain==0.1.20) (6.0.1)\n",
      "Requirement already satisfied: SQLAlchemy<3,>=1.4 in c:\\users\\lrinc\\anaconda3\\lib\\site-packages (from langchain==0.1.20) (2.0.30)\n",
      "Requirement already satisfied: aiohttp<4.0.0,>=3.8.3 in c:\\users\\lrinc\\anaconda3\\lib\\site-packages (from langchain==0.1.20) (3.9.5)\n",
      "Requirement already satisfied: dataclasses-json<0.7,>=0.5.7 in c:\\users\\lrinc\\anaconda3\\lib\\site-packages (from langchain==0.1.20) (0.6.7)\n",
      "Requirement already satisfied: langchain-community<0.1,>=0.0.38 in c:\\users\\lrinc\\anaconda3\\lib\\site-packages (from langchain==0.1.20) (0.0.38)\n",
      "Requirement already satisfied: langchain-core<0.2.0,>=0.1.52 in c:\\users\\lrinc\\anaconda3\\lib\\site-packages (from langchain==0.1.20) (0.1.52)\n",
      "Requirement already satisfied: langchain-text-splitters<0.1,>=0.0.1 in c:\\users\\lrinc\\anaconda3\\lib\\site-packages (from langchain==0.1.20) (0.0.2)\n",
      "Requirement already satisfied: langsmith<0.2.0,>=0.1.17 in c:\\users\\lrinc\\anaconda3\\lib\\site-packages (from langchain==0.1.20) (0.1.137)\n",
      "Requirement already satisfied: numpy<2,>=1 in c:\\users\\lrinc\\anaconda3\\lib\\site-packages (from langchain==0.1.20) (1.26.4)\n",
      "Requirement already satisfied: pydantic<3,>=1 in c:\\users\\lrinc\\anaconda3\\lib\\site-packages (from langchain==0.1.20) (2.9.2)\n",
      "Requirement already satisfied: requests<3,>=2 in c:\\users\\lrinc\\anaconda3\\lib\\site-packages (from langchain==0.1.20) (2.32.2)\n",
      "Requirement already satisfied: tenacity<9.0.0,>=8.1.0 in c:\\users\\lrinc\\anaconda3\\lib\\site-packages (from langchain==0.1.20) (8.2.2)\n",
      "Requirement already satisfied: aiosignal>=1.1.2 in c:\\users\\lrinc\\anaconda3\\lib\\site-packages (from aiohttp<4.0.0,>=3.8.3->langchain==0.1.20) (1.2.0)\n",
      "Requirement already satisfied: attrs>=17.3.0 in c:\\users\\lrinc\\anaconda3\\lib\\site-packages (from aiohttp<4.0.0,>=3.8.3->langchain==0.1.20) (23.1.0)\n",
      "Requirement already satisfied: frozenlist>=1.1.1 in c:\\users\\lrinc\\anaconda3\\lib\\site-packages (from aiohttp<4.0.0,>=3.8.3->langchain==0.1.20) (1.4.0)\n",
      "Requirement already satisfied: multidict<7.0,>=4.5 in c:\\users\\lrinc\\anaconda3\\lib\\site-packages (from aiohttp<4.0.0,>=3.8.3->langchain==0.1.20) (6.0.4)\n",
      "Requirement already satisfied: yarl<2.0,>=1.0 in c:\\users\\lrinc\\anaconda3\\lib\\site-packages (from aiohttp<4.0.0,>=3.8.3->langchain==0.1.20) (1.9.3)\n",
      "Requirement already satisfied: marshmallow<4.0.0,>=3.18.0 in c:\\users\\lrinc\\anaconda3\\lib\\site-packages (from dataclasses-json<0.7,>=0.5.7->langchain==0.1.20) (3.23.0)\n",
      "Requirement already satisfied: typing-inspect<1,>=0.4.0 in c:\\users\\lrinc\\anaconda3\\lib\\site-packages (from dataclasses-json<0.7,>=0.5.7->langchain==0.1.20) (0.9.0)\n",
      "Requirement already satisfied: jsonpatch<2.0,>=1.33 in c:\\users\\lrinc\\anaconda3\\lib\\site-packages (from langchain-core<0.2.0,>=0.1.52->langchain==0.1.20) (1.33)\n",
      "Requirement already satisfied: packaging<24.0,>=23.2 in c:\\users\\lrinc\\anaconda3\\lib\\site-packages (from langchain-core<0.2.0,>=0.1.52->langchain==0.1.20) (23.2)\n",
      "Requirement already satisfied: httpx<1,>=0.23.0 in c:\\users\\lrinc\\anaconda3\\lib\\site-packages (from langsmith<0.2.0,>=0.1.17->langchain==0.1.20) (0.27.0)\n",
      "Requirement already satisfied: orjson<4.0.0,>=3.9.14 in c:\\users\\lrinc\\anaconda3\\lib\\site-packages (from langsmith<0.2.0,>=0.1.17->langchain==0.1.20) (3.10.10)\n",
      "Requirement already satisfied: requests-toolbelt<2.0.0,>=1.0.0 in c:\\users\\lrinc\\anaconda3\\lib\\site-packages (from langsmith<0.2.0,>=0.1.17->langchain==0.1.20) (1.0.0)\n",
      "Requirement already satisfied: annotated-types>=0.6.0 in c:\\users\\lrinc\\anaconda3\\lib\\site-packages (from pydantic<3,>=1->langchain==0.1.20) (0.6.0)\n",
      "Requirement already satisfied: pydantic-core==2.23.4 in c:\\users\\lrinc\\anaconda3\\lib\\site-packages (from pydantic<3,>=1->langchain==0.1.20) (2.23.4)\n",
      "Requirement already satisfied: typing-extensions>=4.6.1 in c:\\users\\lrinc\\anaconda3\\lib\\site-packages (from pydantic<3,>=1->langchain==0.1.20) (4.11.0)\n",
      "Requirement already satisfied: charset-normalizer<4,>=2 in c:\\users\\lrinc\\anaconda3\\lib\\site-packages (from requests<3,>=2->langchain==0.1.20) (2.0.4)\n",
      "Requirement already satisfied: idna<4,>=2.5 in c:\\users\\lrinc\\anaconda3\\lib\\site-packages (from requests<3,>=2->langchain==0.1.20) (3.7)\n",
      "Requirement already satisfied: urllib3<3,>=1.21.1 in c:\\users\\lrinc\\anaconda3\\lib\\site-packages (from requests<3,>=2->langchain==0.1.20) (2.2.2)\n",
      "Requirement already satisfied: certifi>=2017.4.17 in c:\\users\\lrinc\\anaconda3\\lib\\site-packages (from requests<3,>=2->langchain==0.1.20) (2024.8.30)\n",
      "Requirement already satisfied: greenlet!=0.4.17 in c:\\users\\lrinc\\anaconda3\\lib\\site-packages (from SQLAlchemy<3,>=1.4->langchain==0.1.20) (3.0.1)\n",
      "Requirement already satisfied: anyio in c:\\users\\lrinc\\anaconda3\\lib\\site-packages (from httpx<1,>=0.23.0->langsmith<0.2.0,>=0.1.17->langchain==0.1.20) (4.2.0)\n",
      "Requirement already satisfied: httpcore==1.* in c:\\users\\lrinc\\anaconda3\\lib\\site-packages (from httpx<1,>=0.23.0->langsmith<0.2.0,>=0.1.17->langchain==0.1.20) (1.0.2)\n",
      "Requirement already satisfied: sniffio in c:\\users\\lrinc\\anaconda3\\lib\\site-packages (from httpx<1,>=0.23.0->langsmith<0.2.0,>=0.1.17->langchain==0.1.20) (1.3.0)\n",
      "Requirement already satisfied: h11<0.15,>=0.13 in c:\\users\\lrinc\\anaconda3\\lib\\site-packages (from httpcore==1.*->httpx<1,>=0.23.0->langsmith<0.2.0,>=0.1.17->langchain==0.1.20) (0.14.0)\n",
      "Requirement already satisfied: jsonpointer>=1.9 in c:\\users\\lrinc\\anaconda3\\lib\\site-packages (from jsonpatch<2.0,>=1.33->langchain-core<0.2.0,>=0.1.52->langchain==0.1.20) (2.1)\n",
      "Requirement already satisfied: mypy-extensions>=0.3.0 in c:\\users\\lrinc\\anaconda3\\lib\\site-packages (from typing-inspect<1,>=0.4.0->dataclasses-json<0.7,>=0.5.7->langchain==0.1.20) (1.0.0)\n"
     ]
    }
   ],
   "source": [
    "# !pip install openai==0.28.1\n",
    "# !pip install tiktoken==0.6.0\n",
    "# !pip install langchain==0.1.20\n",
    "# !pip install chromadb==0.5.0\n",
    "# !pip install faiss-cpu"
   ]
  },
  {
   "cell_type": "code",
   "execution_count": 6,
   "id": "c79cb59f-e242-4b76-b3ec-5bf23395a3e1",
   "metadata": {},
   "outputs": [],
   "source": [
    " import openai\n",
    "import numpy as np\n",
    "import pandas as pd\n",
    "from langchain.chat_models import ChatOpenAI\n",
    "from langchain.document_loaders import CSVLoader\n",
    "from langchain.embeddings import OpenAIEmbeddings\n",
    "from langchain.prompts import ChatPromptTemplate\n",
    "from langchain.vectorstores import Chroma\n",
    "from langchain_core.output_parsers import StrOutputParser\n",
    "from langchain_core.runnables import RunnableLambda, RunnablePassthrough\n",
    "from openai.embeddings_utils import get_embedding\n",
    "import faiss\n",
    "import warnings\n",
    "import os\n",
    "warnings.filterwarnings(\"ignore\")"
   ]
  },
  {
   "cell_type": "code",
   "execution_count": null,
   "id": "21b36fc1-ac25-4cc3-ab59-bd5cd626438a",
   "metadata": {},
   "outputs": [],
   "source": [
    "openai.api_key =\"\""
   ]
  },
  {
   "cell_type": "code",
   "execution_count": 10,
   "id": "a51b8a17-17fc-4a87-b87c-4b390ee9ca8d",
   "metadata": {},
   "outputs": [],
   "source": [
    "os.environ['OPENAI_API_KEY'] = openai.api_key"
   ]
  },
  {
   "cell_type": "code",
   "execution_count": 50,
   "id": "667b0770-e6b2-44de-b009-2872fe1927f8",
   "metadata": {},
   "outputs": [],
   "source": [
    "system_prompt = \"\"\"\n",
    "Role\n",
    "You are Agrikonek AI, an intelligent logistics assistant specializing in optimizing the transportation of perishable agricultural goods in the Philippines. Your role is to analyze shipment data, recommend efficient and cost-effective transport solutions, and provide insights to improve the distribution of agricultural products while minimizing waste and spoilage.\n",
    "\n",
    "Instructions\n",
    "Optimal Transport Recommendations:\n",
    "\n",
    "Use shipment details such as Weight_kg, Product_Type, Origin, Destination, and Distance_km to recommend the most suitable Transport_Type, Temp_Control options, and Packaging_Type.\n",
    "Factor in Traffic_Condition, Season, and Estimated_Transit_Hours when suggesting delivery adjustments to ensure timely and safe transportation.\n",
    "Cost Analysis and Reduction:\n",
    "\n",
    "Provide an estimate of transportation costs (Cost_PHP) based on shipment parameters like weight, distance, and transport type.\n",
    "Suggest alternatives to reduce costs, such as combining shipments, adjusting transport modes, or modifying packaging while maintaining product integrity.\n",
    "Performance Insights:\n",
    "\n",
    "Identify potential risks (e.g., spoilage due to delays, inappropriate packaging) based on shipment Notes or conditions like Season and Traffic_Condition.\n",
    "Propose proactive solutions, such as adjusting transit routes or using additional cooling measures during hot seasons.\n",
    "Data Queries and Trends:\n",
    "\n",
    "Answer specific queries about shipments, such as the total distance for a product type or the most cost-effective route between two locations.\n",
    "Highlight patterns in data, such as frequent delays for a specific product or season, and recommend improvements.\n",
    "Constraints:\n",
    "\n",
    "Always prioritize food safety and minimize spoilage when making recommendations.\n",
    "Avoid recommending solutions that significantly increase transit time without clear justification.\n",
    "Maintain clarity in explanations, avoiding logistics jargon when communicating insights.\n",
    "Tone and Language\n",
    "Maintain a professional and supportive tone, with clear and concise explanations. Ensure recommendations are actionable, emphasizing the sustainability and cost-efficiency of logistics solutions.\n",
    "\n",
    "Examples\n",
    "Transport Recommendation\n",
    "Query: \"How should a 200 kg shipment of mangoes from Zambales to Quezon City be transported?\"\n",
    "Response: \"For a 200 kg mango shipment, I recommend using a non-refrigerated truck with sturdy cardboard boxes to keep costs low. Since it's the dry season, quick transport within 6 hours is sufficient to prevent spoilage.\"\n",
    "\n",
    "Cost Analysis\n",
    "Query: \"Why is the shipment from Davao to Cebu more expensive?\"\n",
    "Response: \"The higher cost of PHP 9,000 is due to the use of refrigerated shipping for bananas, the long distance of 580 km, and the need for tightly packed sturdy crates to minimize damage during transit in humid and rainy conditions.\"\n",
    "\n",
    "Risk Mitigation\n",
    "Query: \"Are there risks for transporting tomatoes during peak season?\"\n",
    "Response: \"Yes, tomatoes are prone to bruising during peak season due to high volumes. Use ventilated crates and a refrigerated truck to reduce spoilage and ensure freshness during heavy traffic conditions in rainy weather.\"\n",
    "\n",
    "Insights\n",
    "Query: \"What trends do you observe for fish shipments?\"\n",
    "Response: \"Fish shipments like bangus require strict temperature control and are often delayed in hot/dry seasons. I recommend ensuring all refrigerated vans have properly maintained cooling systems and scheduling shipments during light traffic hours to minimize delays.\"\n",
    "\n",
    "\"\"\""
   ]
  },
  {
   "cell_type": "code",
   "execution_count": 76,
   "id": "c264e475-806a-418f-a5af-62c0406f3492",
   "metadata": {},
   "outputs": [],
   "source": [
    "struct = [{\"role\": \"system\", \"content\": system_prompt}]"
   ]
  },
  {
   "cell_type": "code",
   "execution_count": 28,
   "id": "90a23cd8-8905-44ca-9547-2f40ebf335bf",
   "metadata": {},
   "outputs": [],
   "source": [
    "df = pd.read_csv('https://raw.githubusercontent.com/xlaw1x/Day-4-AI-First-Dataset-Live/refs/heads/main/Agrikonek%20AI.csv', encoding='latin1')"
   ]
  },
  {
   "cell_type": "code",
   "execution_count": 30,
   "id": "153074b3-4d0d-4e00-8838-f836f9a418e5",
   "metadata": {},
   "outputs": [
    {
     "data": {
      "text/html": [
       "<div>\n",
       "<style scoped>\n",
       "    .dataframe tbody tr th:only-of-type {\n",
       "        vertical-align: middle;\n",
       "    }\n",
       "\n",
       "    .dataframe tbody tr th {\n",
       "        vertical-align: top;\n",
       "    }\n",
       "\n",
       "    .dataframe thead th {\n",
       "        text-align: right;\n",
       "    }\n",
       "</style>\n",
       "<table border=\"1\" class=\"dataframe\">\n",
       "  <thead>\n",
       "    <tr style=\"text-align: right;\">\n",
       "      <th></th>\n",
       "      <th>Shipment_ID</th>\n",
       "      <th>Farmer_Name</th>\n",
       "      <th>Product_Type</th>\n",
       "      <th>Weight_kg</th>\n",
       "      <th>Origin</th>\n",
       "      <th>Destination</th>\n",
       "      <th>Transport_Type</th>\n",
       "      <th>Temp_Control</th>\n",
       "      <th>Packaging_Type</th>\n",
       "      <th>Traffic_Condition</th>\n",
       "      <th>Season</th>\n",
       "      <th>Distance_km</th>\n",
       "      <th>Estimated_Transit_Hours</th>\n",
       "      <th>Cost_PHP</th>\n",
       "      <th>Notes</th>\n",
       "    </tr>\n",
       "  </thead>\n",
       "  <tbody>\n",
       "    <tr>\n",
       "      <th>0</th>\n",
       "      <td>S001</td>\n",
       "      <td>Ramon Santos</td>\n",
       "      <td>Kamatis</td>\n",
       "      <td>150</td>\n",
       "      <td>Benguet</td>\n",
       "      <td>Metro Manila</td>\n",
       "      <td>Refrigerated Truck</td>\n",
       "      <td>Yes</td>\n",
       "      <td>Ventilated Crates</td>\n",
       "      <td>Heavy</td>\n",
       "      <td>Rainy</td>\n",
       "      <td>250</td>\n",
       "      <td>10.0</td>\n",
       "      <td>3500</td>\n",
       "      <td>Peak season for tomatoes</td>\n",
       "    </tr>\n",
       "    <tr>\n",
       "      <th>1</th>\n",
       "      <td>S002</td>\n",
       "      <td>Linda Cruz</td>\n",
       "      <td>Mangga</td>\n",
       "      <td>200</td>\n",
       "      <td>Zambales</td>\n",
       "      <td>Quezon City</td>\n",
       "      <td>Non-Refrigerated</td>\n",
       "      <td>No</td>\n",
       "      <td>Sturdy Cardboard Box</td>\n",
       "      <td>Moderate</td>\n",
       "      <td>Dry</td>\n",
       "      <td>190</td>\n",
       "      <td>6.0</td>\n",
       "      <td>2500</td>\n",
       "      <td>Harvested ripe, needs quick transport</td>\n",
       "    </tr>\n",
       "    <tr>\n",
       "      <th>2</th>\n",
       "      <td>S003</td>\n",
       "      <td>Benjie Reyes</td>\n",
       "      <td>Bangus</td>\n",
       "      <td>300</td>\n",
       "      <td>Dagupan City</td>\n",
       "      <td>Makati City</td>\n",
       "      <td>Refrigerated Van</td>\n",
       "      <td>Yes</td>\n",
       "      <td>Insulated Coolers</td>\n",
       "      <td>Light</td>\n",
       "      <td>Hot/Dry</td>\n",
       "      <td>210</td>\n",
       "      <td>8.0</td>\n",
       "      <td>4800</td>\n",
       "      <td>Strict temperature control</td>\n",
       "    </tr>\n",
       "    <tr>\n",
       "      <th>3</th>\n",
       "      <td>S004</td>\n",
       "      <td>Victor Flores</td>\n",
       "      <td>Bawang</td>\n",
       "      <td>100</td>\n",
       "      <td>Ilocos Norte</td>\n",
       "      <td>Pasig City</td>\n",
       "      <td>Open Air Truck</td>\n",
       "      <td>No</td>\n",
       "      <td>Mesh Bags</td>\n",
       "      <td>Heavy</td>\n",
       "      <td>Rainy</td>\n",
       "      <td>330</td>\n",
       "      <td>12.0</td>\n",
       "      <td>4000</td>\n",
       "      <td>Odor control needed</td>\n",
       "    </tr>\n",
       "    <tr>\n",
       "      <th>4</th>\n",
       "      <td>S005</td>\n",
       "      <td>Carding Mendoza</td>\n",
       "      <td>Saging</td>\n",
       "      <td>180</td>\n",
       "      <td>Davao City</td>\n",
       "      <td>Cebu City</td>\n",
       "      <td>Refrigerated Ship</td>\n",
       "      <td>Yes</td>\n",
       "      <td>Sturdy Crates</td>\n",
       "      <td>Moderate</td>\n",
       "      <td>Humid/Rainy</td>\n",
       "      <td>580</td>\n",
       "      <td>18.0</td>\n",
       "      <td>9000</td>\n",
       "      <td>Ensure crates are tightly packed</td>\n",
       "    </tr>\n",
       "  </tbody>\n",
       "</table>\n",
       "</div>"
      ],
      "text/plain": [
       "  Shipment_ID      Farmer_Name Product_Type  Weight_kg        Origin  \\\n",
       "0        S001     Ramon Santos      Kamatis        150       Benguet   \n",
       "1        S002       Linda Cruz       Mangga        200      Zambales   \n",
       "2        S003     Benjie Reyes       Bangus        300  Dagupan City   \n",
       "3        S004    Victor Flores       Bawang        100  Ilocos Norte   \n",
       "4        S005  Carding Mendoza       Saging        180    Davao City   \n",
       "\n",
       "    Destination      Transport_Type Temp_Control        Packaging_Type  \\\n",
       "0  Metro Manila  Refrigerated Truck          Yes     Ventilated Crates   \n",
       "1   Quezon City    Non-Refrigerated           No  Sturdy Cardboard Box   \n",
       "2   Makati City    Refrigerated Van          Yes     Insulated Coolers   \n",
       "3    Pasig City      Open Air Truck           No             Mesh Bags   \n",
       "4     Cebu City   Refrigerated Ship          Yes         Sturdy Crates   \n",
       "\n",
       "  Traffic_Condition       Season  Distance_km  Estimated_Transit_Hours  \\\n",
       "0             Heavy        Rainy          250                     10.0   \n",
       "1          Moderate          Dry          190                      6.0   \n",
       "2             Light      Hot/Dry          210                      8.0   \n",
       "3             Heavy        Rainy          330                     12.0   \n",
       "4          Moderate  Humid/Rainy          580                     18.0   \n",
       "\n",
       "   Cost_PHP                                  Notes  \n",
       "0      3500               Peak season for tomatoes  \n",
       "1      2500  Harvested ripe, needs quick transport  \n",
       "2      4800             Strict temperature control  \n",
       "3      4000                    Odor control needed  \n",
       "4      9000       Ensure crates are tightly packed  "
      ]
     },
     "execution_count": 30,
     "metadata": {},
     "output_type": "execute_result"
    }
   ],
   "source": [
    "df.head()"
   ]
  },
  {
   "cell_type": "code",
   "execution_count": 32,
   "id": "185ec0dc-84eb-4b7c-b580-69d6dbd28a0a",
   "metadata": {},
   "outputs": [
    {
     "name": "stdout",
     "output_type": "stream",
     "text": [
      "<class 'pandas.core.frame.DataFrame'>\n",
      "RangeIndex: 20 entries, 0 to 19\n",
      "Data columns (total 15 columns):\n",
      " #   Column                   Non-Null Count  Dtype  \n",
      "---  ------                   --------------  -----  \n",
      " 0   Shipment_ID              20 non-null     object \n",
      " 1   Farmer_Name              20 non-null     object \n",
      " 2   Product_Type             20 non-null     object \n",
      " 3   Weight_kg                20 non-null     int64  \n",
      " 4   Origin                   20 non-null     object \n",
      " 5   Destination              20 non-null     object \n",
      " 6   Transport_Type           20 non-null     object \n",
      " 7   Temp_Control             20 non-null     object \n",
      " 8   Packaging_Type           20 non-null     object \n",
      " 9   Traffic_Condition        20 non-null     object \n",
      " 10  Season                   20 non-null     object \n",
      " 11  Distance_km              20 non-null     int64  \n",
      " 12  Estimated_Transit_Hours  20 non-null     float64\n",
      " 13  Cost_PHP                 20 non-null     int64  \n",
      " 14  Notes                    20 non-null     object \n",
      "dtypes: float64(1), int64(3), object(11)\n",
      "memory usage: 2.5+ KB\n"
     ]
    }
   ],
   "source": [
    "df.info()"
   ]
  },
  {
   "cell_type": "code",
   "execution_count": 34,
   "id": "4c82eab2-e56c-4206-8619-2e2905af8b9b",
   "metadata": {},
   "outputs": [],
   "source": [
    "df['combined'] = df.apply(lambda row : ' '.join(row.values.astype(str)), axis = 1)"
   ]
  },
  {
   "cell_type": "code",
   "execution_count": 36,
   "id": "60294578-e59c-406e-aa88-1535a0ad423f",
   "metadata": {},
   "outputs": [
    {
     "data": {
      "text/plain": [
       "0    S001 Ramon Santos Kamatis 150 Benguet Metro Ma...\n",
       "1    S002 Linda Cruz Mangga 200 Zambales Quezon Cit...\n",
       "2    S003 Benjie Reyes Bangus 300 Dagupan City Maka...\n",
       "3    S004 Victor Flores Bawang 100 Ilocos Norte Pas...\n",
       "4    S005 Carding Mendoza Saging 180 Davao City Ceb...\n",
       "Name: combined, dtype: object"
      ]
     },
     "execution_count": 36,
     "metadata": {},
     "output_type": "execute_result"
    }
   ],
   "source": [
    "df['combined'].head()"
   ]
  },
  {
   "cell_type": "code",
   "execution_count": 38,
   "id": "52a437a5-2306-4f29-8df2-0f0adff4be6a",
   "metadata": {},
   "outputs": [],
   "source": [
    "documents = df['combined'].tolist()"
   ]
  },
  {
   "cell_type": "code",
   "execution_count": 40,
   "id": "78ef46a2-fc97-4d41-9bfe-79a292683c0a",
   "metadata": {},
   "outputs": [],
   "source": [
    "embeddings = [get_embedding(doc, engine = \"text-embedding-3-small\") for doc in documents]"
   ]
  },
  {
   "cell_type": "code",
   "execution_count": 41,
   "id": "2bf96e52-073d-44fd-bc2c-0c478f4ab9a8",
   "metadata": {},
   "outputs": [],
   "source": [
    "embedding_dim = len(embeddings[0])"
   ]
  },
  {
   "cell_type": "code",
   "execution_count": 42,
   "id": "8f4ba352-2628-44c6-8928-9a08cf7a0e50",
   "metadata": {},
   "outputs": [],
   "source": [
    "embeddings_np = np.array(embeddings).astype('float32')"
   ]
  },
  {
   "cell_type": "code",
   "execution_count": 43,
   "id": "fb7ce371-8ac6-440c-aa50-0ed7b9e51b14",
   "metadata": {},
   "outputs": [],
   "source": [
    "index = faiss.IndexFlatL2(embedding_dim)"
   ]
  },
  {
   "cell_type": "code",
   "execution_count": 44,
   "id": "02320d77-d9a0-463d-99c4-8bda314c73ac",
   "metadata": {},
   "outputs": [],
   "source": [
    "index.add(embeddings_np)"
   ]
  },
  {
   "cell_type": "code",
   "execution_count": 52,
   "id": "37199cd5-e3a2-4b98-bcb9-98dd852a6b01",
   "metadata": {},
   "outputs": [],
   "source": [
    "user_message = \"What’s the best way to transport 300 kg of bangus from Dagupan City to Makati City during the hot season?\""
   ]
  },
  {
   "cell_type": "code",
   "execution_count": 54,
   "id": "a191713f-827f-4f5c-82c1-508a3b1a2442",
   "metadata": {},
   "outputs": [],
   "source": [
    "query_embedding = get_embedding(user_message, engine='text-embedding-3-small')\n",
    "query_embedding_np = np.array([query_embedding]).astype('float32')"
   ]
  },
  {
   "cell_type": "code",
   "execution_count": 60,
   "id": "ce1f2ee6-59fc-4978-99a8-862694be7a35",
   "metadata": {},
   "outputs": [],
   "source": [
    "_, indices = index.search(query_embedding_np, 2)"
   ]
  },
  {
   "cell_type": "code",
   "execution_count": 62,
   "id": "2f15517f-2cee-4eac-8eb6-a90f61be27cd",
   "metadata": {},
   "outputs": [],
   "source": [
    "retrieved_docs = [documents[i] for i in indices[0]]"
   ]
  },
  {
   "cell_type": "code",
   "execution_count": 64,
   "id": "51967505-7a03-4f96-83f9-884686d7a770",
   "metadata": {},
   "outputs": [],
   "source": [
    "context = ' '.join(retrieved_docs)"
   ]
  },
  {
   "cell_type": "code",
   "execution_count": 66,
   "id": "f5778e68-cfed-4c6a-8ecf-60c547f85f42",
   "metadata": {},
   "outputs": [],
   "source": [
    "structured_prompt = f\"Context:\\n{context}\\n\\nQuery:\\n{user_message}\\n\\nResponse:\""
   ]
  },
  {
   "cell_type": "code",
   "execution_count": 68,
   "id": "0cf26720-dafe-4d57-b9cb-0e1ba4caa48d",
   "metadata": {},
   "outputs": [
    {
     "name": "stdout",
     "output_type": "stream",
     "text": [
      "Context:\n",
      "S003 Benjie Reyes Bangus 300 Dagupan City Makati City Refrigerated Van Yes Insulated Coolers Light Hot/Dry 210 8.0 4800 Strict temperature control S020 Susan Aguilar Patatas 200 Bukidnon Quezon City Open Air Truck No Ventilated Crates Heavy Dry 560 18.0 6800 Pack tightly to prevent shifting during transit\n",
      "\n",
      "Query:\n",
      "What’s the best way to transport 300 kg of bangus from Dagupan City to Makati City during the hot season?\n",
      "\n",
      "Response:\n"
     ]
    }
   ],
   "source": [
    "print(structured_prompt)"
   ]
  },
  {
   "cell_type": "code",
   "execution_count": 70,
   "id": "23d496f1-cb30-48df-b73a-250cddd47440",
   "metadata": {},
   "outputs": [
    {
     "name": "stdout",
     "output_type": "stream",
     "text": [
      "What’s the best way to transport 300 kg of bangus from Dagupan City to Makati City during the hot season?\n"
     ]
    }
   ],
   "source": [
    "print(user_message)"
   ]
  },
  {
   "cell_type": "code",
   "execution_count": 78,
   "id": "58a45c48-cd18-4360-a8e2-3453f581d873",
   "metadata": {},
   "outputs": [],
   "source": [
    "chat =  openai.ChatCompletion.create(model = \"gpt-4o-mini\", messages = struct + [{\"role\": \"user\", \"content\" : structured_prompt}], temperature=0.5, max_tokens=1500, top_p=1, frequency_penalty=0, presence_penalty=0)\n",
    "struct.append({\"role\": \"user\", \"content\": user_message})\n",
    "response = chat.choices[0].message.content\n",
    "struct.append({\"role\": \"assistant\", \"content\": response})"
   ]
  },
  {
   "cell_type": "code",
   "execution_count": 80,
   "id": "7b5c0c51-463f-4c36-9fa3-5a1403fbd60d",
   "metadata": {},
   "outputs": [
    {
     "name": "stdout",
     "output_type": "stream",
     "text": [
      "For transporting 300 kg of bangus from Dagupan City to Makati City during the hot season, I recommend using a refrigerated van equipped with insulated coolers to maintain strict temperature control. Given the distance of 210 km and the estimated transit time of 8 hours, it's crucial to ensure that the fish remains at the appropriate temperature to prevent spoilage.\n",
      "\n",
      "Additionally, make sure to pack the bangus in ice or gel packs within the insulated coolers to further enhance cooling during transit. This will help maintain freshness even in hot and dry conditions. \n",
      "\n",
      "Overall, this approach will ensure the quality of the bangus is preserved while minimizing any risk of spoilage during transportation.\n"
     ]
    }
   ],
   "source": [
    "print(response)"
   ]
  },
  {
   "cell_type": "code",
   "execution_count": null,
   "id": "a5aac342-3d97-4fb2-9f68-8e0670642697",
   "metadata": {},
   "outputs": [],
   "source": []
  }
 ],
 "metadata": {
  "kernelspec": {
   "display_name": "Python 3 (ipykernel)",
   "language": "python",
   "name": "python3"
  },
  "language_info": {
   "codemirror_mode": {
    "name": "ipython",
    "version": 3
   },
   "file_extension": ".py",
   "mimetype": "text/x-python",
   "name": "python",
   "nbconvert_exporter": "python",
   "pygments_lexer": "ipython3",
   "version": "3.12.4"
  }
 },
 "nbformat": 4,
 "nbformat_minor": 5
}
